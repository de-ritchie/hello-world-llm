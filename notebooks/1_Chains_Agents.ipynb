{
 "cells": [
  {
   "cell_type": "code",
   "execution_count": 1,
   "metadata": {},
   "outputs": [],
   "source": [
    "import os\n",
    "from dotenv import load_dotenv"
   ]
  },
  {
   "cell_type": "code",
   "execution_count": 2,
   "metadata": {},
   "outputs": [
    {
     "data": {
      "text/plain": [
       "True"
      ]
     },
     "execution_count": 2,
     "metadata": {},
     "output_type": "execute_result"
    }
   ],
   "source": [
    "load_dotenv('../.env')"
   ]
  },
  {
   "cell_type": "markdown",
   "metadata": {},
   "source": [
    "# Chains & Agents"
   ]
  },
  {
   "cell_type": "markdown",
   "metadata": {},
   "source": [
    "## Chains"
   ]
  },
  {
   "cell_type": "markdown",
   "metadata": {},
   "source": [
    "### Simple Chains"
   ]
  },
  {
   "cell_type": "code",
   "execution_count": 3,
   "metadata": {},
   "outputs": [],
   "source": [
    "from langchain.llms import OpenAI\n",
    "from langchain.prompts import PromptTemplate\n",
    "from langchain.chains import LLMChain"
   ]
  },
  {
   "cell_type": "code",
   "execution_count": 14,
   "metadata": {},
   "outputs": [],
   "source": [
    "template = 'Who won the Men\\'s International Cricket World Cup in the year {year} & who was the captain ?'"
   ]
  },
  {
   "cell_type": "code",
   "execution_count": 15,
   "metadata": {},
   "outputs": [],
   "source": [
    "prompt= PromptTemplate(\n",
    "    input_variables=['year'],\n",
    "    template=template\n",
    ")"
   ]
  },
  {
   "cell_type": "code",
   "execution_count": 16,
   "metadata": {},
   "outputs": [],
   "source": [
    "llm = OpenAI()"
   ]
  },
  {
   "cell_type": "code",
   "execution_count": 17,
   "metadata": {},
   "outputs": [],
   "source": [
    "chain = LLMChain(llm=llm, prompt=prompt)"
   ]
  },
  {
   "cell_type": "code",
   "execution_count": 18,
   "metadata": {},
   "outputs": [
    {
     "name": "stdout",
     "output_type": "stream",
     "text": [
      "\n",
      "\n",
      "The Indian cricket team, led by Kapil Dev, won the 1983 Men's International Cricket World Cup.\n"
     ]
    }
   ],
   "source": [
    "print(chain.run('1983'))"
   ]
  },
  {
   "cell_type": "markdown",
   "metadata": {},
   "source": [
    "### Simple Sequential Chains"
   ]
  },
  {
   "cell_type": "code",
   "execution_count": 19,
   "metadata": {},
   "outputs": [],
   "source": [
    "from langchain.chains import SimpleSequentialChain\n",
    "from langchain import HuggingFaceHub"
   ]
  },
  {
   "cell_type": "code",
   "execution_count": 25,
   "metadata": {},
   "outputs": [],
   "source": [
    "template_1 = 'Who won the Men\\'s International Cricket World Cup in the year {year} ?'\n",
    "template_2 = 'who was the captain ? when {team}'"
   ]
  },
  {
   "cell_type": "code",
   "execution_count": 26,
   "metadata": {},
   "outputs": [],
   "source": [
    "prompt_1 = PromptTemplate(\n",
    "    input_variables=['year'],\n",
    "    template=template_1\n",
    ")\n",
    "\n",
    "prompt_2 = PromptTemplate(\n",
    "    input_variables=['team'],\n",
    "    template=template_2\n",
    ")"
   ]
  },
  {
   "cell_type": "code",
   "execution_count": 46,
   "metadata": {},
   "outputs": [],
   "source": [
    "open_ai_llm = OpenAI()\n",
    "open_ai_chain = LLMChain(llm=open_ai_llm, prompt=prompt_1)\n",
    "\n",
    "# hf_llm = HuggingFaceHub(repo_id='meta-llama/Llama-2-7b')\n",
    "hf_llm = OpenAI()\n",
    "hf_chain = LLMChain(llm=hf_llm, prompt=prompt_2)"
   ]
  },
  {
   "cell_type": "code",
   "execution_count": 47,
   "metadata": {},
   "outputs": [],
   "source": [
    "seq_chain = SimpleSequentialChain(\n",
    "    chains=[open_ai_chain, hf_chain],\n",
    "    verbose=True\n",
    ")"
   ]
  },
  {
   "cell_type": "code",
   "execution_count": 48,
   "metadata": {},
   "outputs": [
    {
     "name": "stdout",
     "output_type": "stream",
     "text": [
      "\n",
      "\n",
      "\u001b[1m> Entering new SimpleSequentialChain chain...\u001b[0m\n",
      "\u001b[36;1m\u001b[1;3m\n",
      "\n",
      "The Indian cricket team won the Men's International Cricket World Cup in 1983.\u001b[0m\n",
      "\u001b[33;1m\u001b[1;3m The captain of the Indian team was Kapil Dev.\u001b[0m\n",
      "\n",
      "\u001b[1m> Finished chain.\u001b[0m\n"
     ]
    },
    {
     "data": {
      "text/plain": [
       "' The captain of the Indian team was Kapil Dev.'"
      ]
     },
     "execution_count": 48,
     "metadata": {},
     "output_type": "execute_result"
    }
   ],
   "source": [
    "seq_chain.run('1983')"
   ]
  },
  {
   "cell_type": "markdown",
   "metadata": {},
   "source": [
    "### Utility Chains"
   ]
  },
  {
   "cell_type": "markdown",
   "metadata": {},
   "source": [
    "#### Summarize chains"
   ]
  },
  {
   "cell_type": "code",
   "execution_count": 71,
   "metadata": {},
   "outputs": [],
   "source": [
    "import inspect\n",
    "\n",
    "from langchain.chains.summarize import load_summarize_chain\n",
    "from langchain.text_splitter import CharacterTextSplitter\n",
    "from langchain.docstore.document import Document"
   ]
  },
  {
   "cell_type": "code",
   "execution_count": 50,
   "metadata": {},
   "outputs": [],
   "source": [
    "with open('./data/Tenerife_airport_disaster.txt') as f:\n",
    "    data = f.read()"
   ]
  },
  {
   "cell_type": "code",
   "execution_count": 51,
   "metadata": {},
   "outputs": [
    {
     "data": {
      "text/plain": [
       "'Tenerife airport disaster\\n\\nThe Tenerife airport disaster occurred on March 27, 1977, when two Boeing'"
      ]
     },
     "execution_count": 51,
     "metadata": {},
     "output_type": "execute_result"
    }
   ],
   "source": [
    "data[: 100]"
   ]
  },
  {
   "cell_type": "markdown",
   "metadata": {},
   "source": [
    "#### Split Text"
   ]
  },
  {
   "cell_type": "code",
   "execution_count": 64,
   "metadata": {},
   "outputs": [
    {
     "data": {
      "text/plain": [
       "[Document(page_content=\"Tenerife airport disaster\\n\\nThe Tenerife airport disaster occurred on March 27, 1977, when two Boeing 747 passenger jets collided on the runway at Los Rodeos Airport (now Tenerife North Airport) on the Spanish island of Tenerife. The collision occurred when KLM Flight 4805 initiated its takeoff run during dense fog while Pan Am Flight 1736 was still on the runway. The impact and resulting fire killed everyone on board KLM 4805 and most of the occupants of Pan Am 1736, with only 61 survivors in the front section of the aircraft. With 583 fatalities, the disaster is the deadliest accident in aviation history.\\nA bomb set off by the Canary Islands Independence Movement at Gran Canaria Airport had caused many flights to be diverted to Los Rodeos, including the two aircraft involved in the accident. The airport quickly became congested with parked airplanes blocking the only taxiway and forcing departing aircraft to taxi on the runway instead. Patches of thick fog were drifting across the airfield, so visibility was greatly reduced for pilots and the control tower.\\nThe subsequent investigation by Spanish authorities concluded that the primary cause of the accident was the KLM captain's decision to take off in the mistaken belief that a takeoff clearance from air traffic control (ATC) had been issued. Dutch investigators placed a greater emphasis on a mutual misunderstanding in radio communications between the KLM crew and ATC, but ultimately KLM admitted that their crew was responsible for the accident and the airline agreed to financially compensate the relatives of all of the victims.\\nThe disaster had a lasting influence on the industry, highlighting in particular the vital importance of using standardized phraseology in radio communications. Cockpit procedures were also reviewed, contributing to the establishment of crew resource management as a fundamental part ofairline pilots' training. The captain is no longer considered infallible, and combined crew input is encouraged during aircraft operations.\\n\\nFlight history\\nTenerife was an unscheduled stop for both flights. Their destination was Gran Canaria Airport (also known as Las Palmas Airport or Gando Airport), serving Las Palmas on the nearby island of Gran Canaria. Both islands are part of the Canary Islands, an autonomous community of Spain located in the Atlantic Ocean off the southwest coast of Morocco.\\n\\nKLM Flight 4805\\nKLM Flight 4805 was a charter flight for Holland International Travel Group and had arrived from Amsterdam Airport Schiphol, Netherlands.[9] Its cockpit crew consisted of Captain Jacob Veldhuyzen van Zanten (age 50),[10] First Officer Klaas Meurs (42), and Flight Engineer Willem Schreuder (48). At the time of the accident, van Zanten was KLM's chief flight instructor, with 11,700 flight hours, of which 1,545 hours were on the 747. Meurs had 9,200 flight hours, of which 95 hours were on the 747. Schreuder had 17,031 flight hours, of which 543 hours were on the 747.\\nThe aircraft was a Boeing 747-206B, registration\\nPH-BUF, named Rijn (Rhine). The KLM jet was\\ncarrying 14 crew members and 235 passengers,\\nincluding 52 children. Most of the KLM\\npassengers were Dutch; also on board were four Germans, two Austrians, and two Americans. After the aircraft landed at Tenerife, the passengers were transported to the airport terminal. One of the inbound passengers, Robina van Lanschot, who lived on the island with her boyfriend, chose not to re-board the 747, leaving 234 passengers on board.[11][12]\", metadata={}),\n",
       " Document(page_content=\"Pan Am Flight 1736\\nPan Am Flight 1736 had originated at Los Angeles International Airport, with an intermediate stop at New York's John F. Kennedy International Airport (JFK). The aircraft was a Boeing 747-121, registration N736PA, named Clipper Victor. It was the first 747 to be delivered to an airline. Of the 380 passengers (mostly of retirement age, but including two children), 14 had boarded in New York, where the crew was also changed. All but five passengers onboard the aircraft were Americans; the non-American passengers were all Canadian nationals.[13] The new crew consisted of Captain Victor Grubbs (age 56), First Officer Robert Bragg (39), Flight Engineer George Warns (46) and 13 flight attendants. At the time of the accident, Grubbs had 21,043 hours of flight time, of which 564 hours were on the 747. Bragg had 10,800 flight hours, of which 2,796 hours were on the 747. Warns had 15,210 flight hours, of which 559 hours were on the 747.\\nThis particular aircraft had operated the inaugural 747 commercial flight on January 22, 1970.[9] On August 2, 1970, in its first year of service, it also became the first 747 to be hijacked: en route between JFK and Luis Muñoz Marín International Airport in San Juan, Puerto Rico, it was diverted to José Martí International Airport in Havana, Cuba.[14]\\n\\nAccident\\n\\nDiversion of aircraft to Los Rodeos\\nBoth flights had been routine until they approached the islands. At 13:15, a bomb planted by the separatist Canary Islands Independence Movement exploded in the terminal of Gran Canaria Airport, injuring eight people.[15] There had been a phone call warning of the bomb, which had been misunderstood as two bombs. The civil aviation authorities had therefore closed the airport temporarily after the explosion, and all incoming flights bound for Gran Canaria had been diverted to Los Rodeos, including the two aircraft involved in the disaster.[4] The Pan Am crew indicated that they would prefer to circle in a holding pattern until landing clearance was given (they had enough fuel to safely stay in the air for two more hours), but they were ordered to divert to Tenerife.[16]\\nLos Rodeos was a regional airport that could not easily accommodate all of the traffic diverted from Gran Canaria, which included five large airliners.[17] The airport had only one runway and one major taxiway running parallel to it, with four short taxiways connecting the two. While waiting for Gran Canaria airport to reopen, the diverted airplanes took up so much space that they had to park on the long taxiway, making it unavailable for the purpose of taxiing. Instead, departing aircraft needed to taxi along the runway to position themselves for takeoff, a procedure known as a backtaxi or backtrack.[4]\\nThe authorities reopened Gran Canaria airport once the bomb threat had been contained. The Pan Am plane was ready to depart from Tenerife, but access to the runway was obstructed by the KLM plane and a refueling vehicle; the KLM captain had decided to fully refuel at Los Rodeos instead of Las Palmas, apparently to save time. The Pan Am aircraft was unable to maneuver around the refueling KLM in order to reach the runway for takeoff, due to a lack of safe clearance between the two planes, which was just 3.7 meters (12 ft).[11] The refueling took about 35 minutes, after which the passengers were brought back to the aircraft. The search for a missing Dutch family of four, who had not returned to the waiting KLM plane, delayed the flight even further. Robina van Lanschot,[18] a tour guide, had chosen not to reboard for the flight to Las Palmas, because she lived on Tenerife and thought it impractical to fly to Gran Canaria only to return to Tenerife the next day. She was therefore not on the KLM plane when the accident happened, and was the only survivor of those who flew from Amsterdam to Tenerife on Flight 4805.\", metadata={}),\n",
       " Document(page_content='Taxiing and takeoff preparations\\nThe tower instructed the KLM plane to taxi down the entire length of the runway and then make a 180° turn to get into takeoff position.[19] While the KLM was backtaxiing on the runway, the controller asked the flight crew to report when it was ready to copy the ATC clearance. Because the flight crew was performing the checklist, copying the clearance was postponed until the aircraft was in takeoff position.[20]\\nShortly afterward, the Pan Am was instructed to follow the KLM down the same runway, exit it by taking the third exit on their left and then use the parallel taxiway. Initially, the crew was unclear as to whether the controller had told them to take the first or third exit. The crew asked for clarification and the controller responded emphatically by replying: \"The third one, sir; one,\\ntwo, three; third, third one.\" The crew began the taxi and proceeded to identify the unmarked taxiways using an airport diagram as they reached them.[21]\\nThe crew successfully identified the first two taxiways (C-1 and C-2), but their discussion in the cockpit indicated that they had not sighted the third taxiway (C-3), which they had been instructed to use.[22] There were no markings or signs to identify the runway exits and they were in conditions of poor visibility. The Pan Am crew appeared to remain unsure of their position on the runway until the collision, which occurred near the intersection with the fourth taxiway (C-4).[23]\\nThe angle of the third taxiway would have required the plane to perform a 148° turn, which would lead back toward the still-crowded main apron. At the end of C-3, the Pan Am would have to make another 148° turn, in order to continue taxiing towards the start of the runway, similar to a mirrored letter \"Z\". Taxiway C-4 would have required two 35° turns. A study carried out by the Air Line Pilots Association (ALPA) after the accident concluded that making the second 148° turn at the end of taxiway C-3 would have been \"a practical impossibility\".[24] The official report from the Spanish authorities explained that the controller instructed the Pan Am aircraft to use the third taxiway because this was the earliest exit that they could take to reach the unobstructed section of the parallel taxiway.[25]\\n\\nWeather conditions at Los Rodeos\\nLos Rodeos airport is at 633 meters (2,077 ft) above sea level, which gives rise to weather conditions that differ from those at many other airports. Clouds at 600 m (2,000 ft) above ground level at the nearby coast are at ground level at Los Rodeos. Drifting clouds of different densities cause wildly varying visibilities, from unhindered at one moment to below the legal minimum the next. The collision took place in a high- density cloud.[26]\\nThe Pan Am crew found themselves in poor and rapidly deteriorating visibility almost as soon as they entered the runway. According to the ALPA report, as the Pan Am aircraft taxied to the runway, the visibility was about 500 m (1,600 ft). Shortly after they turned onto the runway it decreased to less than 100 m (330 ft).[27]\\nMeanwhile, the KLM plane was still in good visibility, but with clouds blowing down the runway towards them. The aircraft completed its 180-degree turn in relatively clear weather and lined up on Runway 30. The next cloud was 900 m (3,000 ft) down the runway and moving towards the aircraft at about 12 knots (14 mph; 22 km/h).[28]', metadata={}),\n",
       " Document(page_content='Communication misunderstandings\\nImmediately after lining up, the KLM captain advanced the throttles and the aircraft started to move forward.[31] Meurs advised him that ATC clearance had not yet been given and van Zanten responded: \"No, I know that. Go ahead, ask.\" Meurs then radioed the tower that they were \"ready for takeoff\" and \"waiting for our ATC clearance\". The KLM crew then received instructions that specified the route that the aircraft was to follow after takeoff. The instructions used the word \"takeoff,\" but did not include an explicit statement that they were cleared for takeoff.\\nMeurs read the flight clearance back to the controller, completing the readback with the statement: \"We are now at takeoff.\"[4] Van Zanten interrupted the co-pilot\\'s readback with the comment, \"We\\'re going.\"[4]\\nThe controller, who could not see the runway due to the fog, initially responded with \"OK\" (terminology that is nonstandard), which reinforced the KLM captain\\'s misinterpretation that they had takeoff clearance. The controller\\'s response of \"OK\" to the co-pilot\\'s nonstandard statement that they were \"now at takeoff\" was likely due to his misinterpretation that they were in takeoff position and ready to begin the roll when takeoff clearance was received, but not in the process of taking off. The controller then immediately added \"stand by for takeoff, I will call you\",[4] indicating that he had not intended the instruction to be interpreted as a takeoff clearance.[32]\\nA simultaneous radio call from the Pan Am crew caused mutual interference on the radio frequency, which was audible in the KLM cockpit as a three-second-long shrill sound (or heterodyne). This caused the KLM crew to miss the crucial latter portion of the tower\\'s response. The Pan Am crew\\'s transmission was \"We\\'re still taxiing down the runway, the Clipper 1736!\" This message was also blocked by the interference and inaudible to the KLM crew. Either message, if heard in the KLM cockpit, would have alerted the crew to the situation and given them time to abort the takeoff attempt.[33]\\nDue to the fog, neither crew was able to see the other plane on the runway ahead of them. In addition, neither of the aircraft could be seen from the control tower, and the airport was not equipped with ground radar.[4]\\nAfter the KLM plane had started its takeoff roll, the tower instructed the Pan Am crew to \"report when runway clear.\" The Pan Am crew replied: \"OK, will report when we\\'re clear.\" On hearing this, the KLM flight engineer expressed his concern about the Pan Am not being clear of the runway by asking the pilots in his own cockpit, \"Is he not clear that Pan American?\" Van Zanten emphatically replied \"Oh, yes\" and continued with the takeoff.[29]\\nCollision\\nAccording to the cockpit voice recorder (CVR), the Pan Am captain said, \"There he is!\" when he spotted the KLM\\'s landing lights through the fog just as his plane approached exit C-4. When it became clear that the KLM aircraft was approaching at takeoff speed, Captain Grubbs exclaimed, \"Goddamn, that son-of-a-bitch is coming!\", while first officer Robert Bragg yelled, \"Get off! Get off! Get off!\"[34] Grubbs applied full power to the throttles and made a sharp left turn towards the grass in an attempt to avoid the impending collision.[4]\\nBy the time the KLM pilots saw the Pan Am aircraft, they were already moving too fast to stop. In desperation, the pilots prematurely rotated the aircraft nose upward and attempted to clear the Pan Am by lifting off, causing a 22 m (72 ft) tailstrike.[4] The KLM 747 was within 100 m (330 ft) of the Pan Am and moving at approximately 140 knots (260 km/h; 160 mph) when it left the ground. Its nose landing gear cleared the Pan Am, but its left-side engines, lower fuselage, and main landing gear struck the upper right side of the Pan Am\\'s fuselage,[11] ripping apart the center of the Pan Am jet almost directly above the wing. The right-side engines crashed through the Pan Am\\'s upper deck immediately behind the cockpit.', metadata={}),\n",
       " Document(page_content='The KLM plane remained briefly airborne, but the impact had sheared off the outer left engine, caused significant amounts of shredded materials to be ingested by the inner left engine, and damaged the wings. The plane immediately went into a stall, rolled sharply, and hit the ground approximately 150 m (500 ft) past the collision, sliding down the runway for a further 300 m (1,000 ft). The full load of fuel, which had caused the earlier delay, ignited immediately into a fireball that could not be subdued for several hours. One of the 61 survivors of the Pan Am flight said that sitting in the nose of the plane probably saved his life: \"We all settled back, and the next thing an explosion took place and the whole port side, left side of the plane, was just torn wide open.\"[35]\\nVan Zanten was KLM\\'s chief of flight training and one of their most senior pilots. About two months before the accident, he had conducted the Boeing 747 qualification check on the co-pilot of Flight 4805.[12] His photograph was used for publicity materials such as magazine advertisements, including the inflight magazine on board PH- BUF.[11][36] KLM had suggested initially that van Zanten should help with the investigation, unaware that he was the captain who had been killed in the accident.[37]\\nVictims\\nBoth airplanes were destroyed in the collision. All 248 passengers and crew aboard the KLM plane died, as did 335 passengers and crew aboard the Pan Am plane,[38] primarily due to the fire and explosions resulting from the fuel spilled and ignited in the impact. The other 61 passengers and crew aboard the Pan Am aircraft survived. There were initially 70 survivors, but 9 passengers later died of their injuries.[39] Among the survivors were the captain, first officer and flight engineer. Most of the survivors on the Pan Am walked out onto the intact left wing, the side away from the collision, through holes in the fuselage structure.\\nThe Pan Am\\'s engines were still running for a few minutes after the accident despite first officer Bragg\\'s intention to turn them off. The top part of the cockpit, where the engine switches were located, had been destroyed in the collision, and all control lines were severed, leaving no means for the flight crew to control the aircraft\\'s systems. Survivors waited for rescue, but it did not come promptly, as the firefighters were initially unaware that there were two aircraft involved and were concentrating on the KLM wreck hundreds of meters away in the thick fog and smoke. Eventually, most of the survivors on the wing dropped to the ground below.[11]\\n\\nNotable fatalities\\nJacob Veldhuyzen van Zanten, chief flight instructor for KLM and the captain of the KLM flight.[37]\\nEve Meyer, a pin-up model, film actress and producer and second wife of film director Russ Meyer, was on the Pan Am flight.[40]\\nA. P. Hamann, the former city manager of San Jose, California, was on the Pan Am flight.[41]', metadata={})]"
      ]
     },
     "execution_count": 64,
     "metadata": {},
     "output_type": "execute_result"
    }
   ],
   "source": [
    "txt_splitter = CharacterTextSplitter(\n",
    "    chunk_size = 4100,\n",
    "    chunk_overlap  = 500,\n",
    ")\n",
    "# Create data to Docs\n",
    "docs = txt_splitter.create_documents([data])\n",
    "\n",
    "# Alternate method to create docs\n",
    "# txt = txt_splitter.split_text(data)\n",
    "# docs = [Document(page_content=t) for t in txt]\n",
    "\n",
    "docs"
   ]
  },
  {
   "cell_type": "code",
   "execution_count": 65,
   "metadata": {},
   "outputs": [],
   "source": [
    "chain = load_summarize_chain(\n",
    "    llm,\n",
    "    chain_type='map_reduce',\n",
    "    verbose=True\n",
    ")"
   ]
  },
  {
   "cell_type": "code",
   "execution_count": 67,
   "metadata": {},
   "outputs": [
    {
     "name": "stdout",
     "output_type": "stream",
     "text": [
      "\n",
      "\n",
      "\u001b[1m> Entering new MapReduceDocumentsChain chain...\u001b[0m\n",
      "\n",
      "\n",
      "\u001b[1m> Entering new LLMChain chain...\u001b[0m\n",
      "Prompt after formatting:\n",
      "\u001b[32;1m\u001b[1;3mWrite a concise summary of the following:\n",
      "\n",
      "\n",
      "\"Tenerife airport disaster\n",
      "\n",
      "The Tenerife airport disaster occurred on March 27, 1977, when two Boeing 747 passenger jets collided on the runway at Los Rodeos Airport (now Tenerife North Airport) on the Spanish island of Tenerife. The collision occurred when KLM Flight 4805 initiated its takeoff run during dense fog while Pan Am Flight 1736 was still on the runway. The impact and resulting fire killed everyone on board KLM 4805 and most of the occupants of Pan Am 1736, with only 61 survivors in the front section of the aircraft. With 583 fatalities, the disaster is the deadliest accident in aviation history.\n",
      "A bomb set off by the Canary Islands Independence Movement at Gran Canaria Airport had caused many flights to be diverted to Los Rodeos, including the two aircraft involved in the accident. The airport quickly became congested with parked airplanes blocking the only taxiway and forcing departing aircraft to taxi on the runway instead. Patches of thick fog were drifting across the airfield, so visibility was greatly reduced for pilots and the control tower.\n",
      "The subsequent investigation by Spanish authorities concluded that the primary cause of the accident was the KLM captain's decision to take off in the mistaken belief that a takeoff clearance from air traffic control (ATC) had been issued. Dutch investigators placed a greater emphasis on a mutual misunderstanding in radio communications between the KLM crew and ATC, but ultimately KLM admitted that their crew was responsible for the accident and the airline agreed to financially compensate the relatives of all of the victims.\n",
      "The disaster had a lasting influence on the industry, highlighting in particular the vital importance of using standardized phraseology in radio communications. Cockpit procedures were also reviewed, contributing to the establishment of crew resource management as a fundamental part ofairline pilots' training. The captain is no longer considered infallible, and combined crew input is encouraged during aircraft operations.\n",
      "\n",
      "Flight history\n",
      "Tenerife was an unscheduled stop for both flights. Their destination was Gran Canaria Airport (also known as Las Palmas Airport or Gando Airport), serving Las Palmas on the nearby island of Gran Canaria. Both islands are part of the Canary Islands, an autonomous community of Spain located in the Atlantic Ocean off the southwest coast of Morocco.\n",
      "\n",
      "KLM Flight 4805\n",
      "KLM Flight 4805 was a charter flight for Holland International Travel Group and had arrived from Amsterdam Airport Schiphol, Netherlands.[9] Its cockpit crew consisted of Captain Jacob Veldhuyzen van Zanten (age 50),[10] First Officer Klaas Meurs (42), and Flight Engineer Willem Schreuder (48). At the time of the accident, van Zanten was KLM's chief flight instructor, with 11,700 flight hours, of which 1,545 hours were on the 747. Meurs had 9,200 flight hours, of which 95 hours were on the 747. Schreuder had 17,031 flight hours, of which 543 hours were on the 747.\n",
      "The aircraft was a Boeing 747-206B, registration\n",
      "PH-BUF, named Rijn (Rhine). The KLM jet was\n",
      "carrying 14 crew members and 235 passengers,\n",
      "including 52 children. Most of the KLM\n",
      "passengers were Dutch; also on board were four Germans, two Austrians, and two Americans. After the aircraft landed at Tenerife, the passengers were transported to the airport terminal. One of the inbound passengers, Robina van Lanschot, who lived on the island with her boyfriend, chose not to re-board the 747, leaving 234 passengers on board.[11][12]\"\n",
      "\n",
      "\n",
      "CONCISE SUMMARY:\u001b[0m\n",
      "Prompt after formatting:\n",
      "\u001b[32;1m\u001b[1;3mWrite a concise summary of the following:\n",
      "\n",
      "\n",
      "\"Pan Am Flight 1736\n",
      "Pan Am Flight 1736 had originated at Los Angeles International Airport, with an intermediate stop at New York's John F. Kennedy International Airport (JFK). The aircraft was a Boeing 747-121, registration N736PA, named Clipper Victor. It was the first 747 to be delivered to an airline. Of the 380 passengers (mostly of retirement age, but including two children), 14 had boarded in New York, where the crew was also changed. All but five passengers onboard the aircraft were Americans; the non-American passengers were all Canadian nationals.[13] The new crew consisted of Captain Victor Grubbs (age 56), First Officer Robert Bragg (39), Flight Engineer George Warns (46) and 13 flight attendants. At the time of the accident, Grubbs had 21,043 hours of flight time, of which 564 hours were on the 747. Bragg had 10,800 flight hours, of which 2,796 hours were on the 747. Warns had 15,210 flight hours, of which 559 hours were on the 747.\n",
      "This particular aircraft had operated the inaugural 747 commercial flight on January 22, 1970.[9] On August 2, 1970, in its first year of service, it also became the first 747 to be hijacked: en route between JFK and Luis Muñoz Marín International Airport in San Juan, Puerto Rico, it was diverted to José Martí International Airport in Havana, Cuba.[14]\n",
      "\n",
      "Accident\n",
      "\n",
      "Diversion of aircraft to Los Rodeos\n",
      "Both flights had been routine until they approached the islands. At 13:15, a bomb planted by the separatist Canary Islands Independence Movement exploded in the terminal of Gran Canaria Airport, injuring eight people.[15] There had been a phone call warning of the bomb, which had been misunderstood as two bombs. The civil aviation authorities had therefore closed the airport temporarily after the explosion, and all incoming flights bound for Gran Canaria had been diverted to Los Rodeos, including the two aircraft involved in the disaster.[4] The Pan Am crew indicated that they would prefer to circle in a holding pattern until landing clearance was given (they had enough fuel to safely stay in the air for two more hours), but they were ordered to divert to Tenerife.[16]\n",
      "Los Rodeos was a regional airport that could not easily accommodate all of the traffic diverted from Gran Canaria, which included five large airliners.[17] The airport had only one runway and one major taxiway running parallel to it, with four short taxiways connecting the two. While waiting for Gran Canaria airport to reopen, the diverted airplanes took up so much space that they had to park on the long taxiway, making it unavailable for the purpose of taxiing. Instead, departing aircraft needed to taxi along the runway to position themselves for takeoff, a procedure known as a backtaxi or backtrack.[4]\n",
      "The authorities reopened Gran Canaria airport once the bomb threat had been contained. The Pan Am plane was ready to depart from Tenerife, but access to the runway was obstructed by the KLM plane and a refueling vehicle; the KLM captain had decided to fully refuel at Los Rodeos instead of Las Palmas, apparently to save time. The Pan Am aircraft was unable to maneuver around the refueling KLM in order to reach the runway for takeoff, due to a lack of safe clearance between the two planes, which was just 3.7 meters (12 ft).[11] The refueling took about 35 minutes, after which the passengers were brought back to the aircraft. The search for a missing Dutch family of four, who had not returned to the waiting KLM plane, delayed the flight even further. Robina van Lanschot,[18] a tour guide, had chosen not to reboard for the flight to Las Palmas, because she lived on Tenerife and thought it impractical to fly to Gran Canaria only to return to Tenerife the next day. She was therefore not on the KLM plane when the accident happened, and was the only survivor of those who flew from Amsterdam to Tenerife on Flight 4805.\"\n",
      "\n",
      "\n",
      "CONCISE SUMMARY:\u001b[0m\n",
      "Prompt after formatting:\n",
      "\u001b[32;1m\u001b[1;3mWrite a concise summary of the following:\n",
      "\n",
      "\n",
      "\"Taxiing and takeoff preparations\n",
      "The tower instructed the KLM plane to taxi down the entire length of the runway and then make a 180° turn to get into takeoff position.[19] While the KLM was backtaxiing on the runway, the controller asked the flight crew to report when it was ready to copy the ATC clearance. Because the flight crew was performing the checklist, copying the clearance was postponed until the aircraft was in takeoff position.[20]\n",
      "Shortly afterward, the Pan Am was instructed to follow the KLM down the same runway, exit it by taking the third exit on their left and then use the parallel taxiway. Initially, the crew was unclear as to whether the controller had told them to take the first or third exit. The crew asked for clarification and the controller responded emphatically by replying: \"The third one, sir; one,\n",
      "two, three; third, third one.\" The crew began the taxi and proceeded to identify the unmarked taxiways using an airport diagram as they reached them.[21]\n",
      "The crew successfully identified the first two taxiways (C-1 and C-2), but their discussion in the cockpit indicated that they had not sighted the third taxiway (C-3), which they had been instructed to use.[22] There were no markings or signs to identify the runway exits and they were in conditions of poor visibility. The Pan Am crew appeared to remain unsure of their position on the runway until the collision, which occurred near the intersection with the fourth taxiway (C-4).[23]\n",
      "The angle of the third taxiway would have required the plane to perform a 148° turn, which would lead back toward the still-crowded main apron. At the end of C-3, the Pan Am would have to make another 148° turn, in order to continue taxiing towards the start of the runway, similar to a mirrored letter \"Z\". Taxiway C-4 would have required two 35° turns. A study carried out by the Air Line Pilots Association (ALPA) after the accident concluded that making the second 148° turn at the end of taxiway C-3 would have been \"a practical impossibility\".[24] The official report from the Spanish authorities explained that the controller instructed the Pan Am aircraft to use the third taxiway because this was the earliest exit that they could take to reach the unobstructed section of the parallel taxiway.[25]\n",
      "\n",
      "Weather conditions at Los Rodeos\n",
      "Los Rodeos airport is at 633 meters (2,077 ft) above sea level, which gives rise to weather conditions that differ from those at many other airports. Clouds at 600 m (2,000 ft) above ground level at the nearby coast are at ground level at Los Rodeos. Drifting clouds of different densities cause wildly varying visibilities, from unhindered at one moment to below the legal minimum the next. The collision took place in a high- density cloud.[26]\n",
      "The Pan Am crew found themselves in poor and rapidly deteriorating visibility almost as soon as they entered the runway. According to the ALPA report, as the Pan Am aircraft taxied to the runway, the visibility was about 500 m (1,600 ft). Shortly after they turned onto the runway it decreased to less than 100 m (330 ft).[27]\n",
      "Meanwhile, the KLM plane was still in good visibility, but with clouds blowing down the runway towards them. The aircraft completed its 180-degree turn in relatively clear weather and lined up on Runway 30. The next cloud was 900 m (3,000 ft) down the runway and moving towards the aircraft at about 12 knots (14 mph; 22 km/h).[28]\"\n",
      "\n",
      "\n",
      "CONCISE SUMMARY:\u001b[0m\n",
      "Prompt after formatting:\n",
      "\u001b[32;1m\u001b[1;3mWrite a concise summary of the following:\n",
      "\n",
      "\n",
      "\"Communication misunderstandings\n",
      "Immediately after lining up, the KLM captain advanced the throttles and the aircraft started to move forward.[31] Meurs advised him that ATC clearance had not yet been given and van Zanten responded: \"No, I know that. Go ahead, ask.\" Meurs then radioed the tower that they were \"ready for takeoff\" and \"waiting for our ATC clearance\". The KLM crew then received instructions that specified the route that the aircraft was to follow after takeoff. The instructions used the word \"takeoff,\" but did not include an explicit statement that they were cleared for takeoff.\n",
      "Meurs read the flight clearance back to the controller, completing the readback with the statement: \"We are now at takeoff.\"[4] Van Zanten interrupted the co-pilot's readback with the comment, \"We're going.\"[4]\n",
      "The controller, who could not see the runway due to the fog, initially responded with \"OK\" (terminology that is nonstandard), which reinforced the KLM captain's misinterpretation that they had takeoff clearance. The controller's response of \"OK\" to the co-pilot's nonstandard statement that they were \"now at takeoff\" was likely due to his misinterpretation that they were in takeoff position and ready to begin the roll when takeoff clearance was received, but not in the process of taking off. The controller then immediately added \"stand by for takeoff, I will call you\",[4] indicating that he had not intended the instruction to be interpreted as a takeoff clearance.[32]\n",
      "A simultaneous radio call from the Pan Am crew caused mutual interference on the radio frequency, which was audible in the KLM cockpit as a three-second-long shrill sound (or heterodyne). This caused the KLM crew to miss the crucial latter portion of the tower's response. The Pan Am crew's transmission was \"We're still taxiing down the runway, the Clipper 1736!\" This message was also blocked by the interference and inaudible to the KLM crew. Either message, if heard in the KLM cockpit, would have alerted the crew to the situation and given them time to abort the takeoff attempt.[33]\n",
      "Due to the fog, neither crew was able to see the other plane on the runway ahead of them. In addition, neither of the aircraft could be seen from the control tower, and the airport was not equipped with ground radar.[4]\n",
      "After the KLM plane had started its takeoff roll, the tower instructed the Pan Am crew to \"report when runway clear.\" The Pan Am crew replied: \"OK, will report when we're clear.\" On hearing this, the KLM flight engineer expressed his concern about the Pan Am not being clear of the runway by asking the pilots in his own cockpit, \"Is he not clear that Pan American?\" Van Zanten emphatically replied \"Oh, yes\" and continued with the takeoff.[29]\n",
      "Collision\n",
      "According to the cockpit voice recorder (CVR), the Pan Am captain said, \"There he is!\" when he spotted the KLM's landing lights through the fog just as his plane approached exit C-4. When it became clear that the KLM aircraft was approaching at takeoff speed, Captain Grubbs exclaimed, \"Goddamn, that son-of-a-bitch is coming!\", while first officer Robert Bragg yelled, \"Get off! Get off! Get off!\"[34] Grubbs applied full power to the throttles and made a sharp left turn towards the grass in an attempt to avoid the impending collision.[4]\n",
      "By the time the KLM pilots saw the Pan Am aircraft, they were already moving too fast to stop. In desperation, the pilots prematurely rotated the aircraft nose upward and attempted to clear the Pan Am by lifting off, causing a 22 m (72 ft) tailstrike.[4] The KLM 747 was within 100 m (330 ft) of the Pan Am and moving at approximately 140 knots (260 km/h; 160 mph) when it left the ground. Its nose landing gear cleared the Pan Am, but its left-side engines, lower fuselage, and main landing gear struck the upper right side of the Pan Am's fuselage,[11] ripping apart the center of the Pan Am jet almost directly above the wing. The right-side engines crashed through the Pan Am's upper deck immediately behind the cockpit.\"\n",
      "\n",
      "\n",
      "CONCISE SUMMARY:\u001b[0m\n",
      "Prompt after formatting:\n",
      "\u001b[32;1m\u001b[1;3mWrite a concise summary of the following:\n",
      "\n",
      "\n",
      "\"The KLM plane remained briefly airborne, but the impact had sheared off the outer left engine, caused significant amounts of shredded materials to be ingested by the inner left engine, and damaged the wings. The plane immediately went into a stall, rolled sharply, and hit the ground approximately 150 m (500 ft) past the collision, sliding down the runway for a further 300 m (1,000 ft). The full load of fuel, which had caused the earlier delay, ignited immediately into a fireball that could not be subdued for several hours. One of the 61 survivors of the Pan Am flight said that sitting in the nose of the plane probably saved his life: \"We all settled back, and the next thing an explosion took place and the whole port side, left side of the plane, was just torn wide open.\"[35]\n",
      "Van Zanten was KLM's chief of flight training and one of their most senior pilots. About two months before the accident, he had conducted the Boeing 747 qualification check on the co-pilot of Flight 4805.[12] His photograph was used for publicity materials such as magazine advertisements, including the inflight magazine on board PH- BUF.[11][36] KLM had suggested initially that van Zanten should help with the investigation, unaware that he was the captain who had been killed in the accident.[37]\n",
      "Victims\n",
      "Both airplanes were destroyed in the collision. All 248 passengers and crew aboard the KLM plane died, as did 335 passengers and crew aboard the Pan Am plane,[38] primarily due to the fire and explosions resulting from the fuel spilled and ignited in the impact. The other 61 passengers and crew aboard the Pan Am aircraft survived. There were initially 70 survivors, but 9 passengers later died of their injuries.[39] Among the survivors were the captain, first officer and flight engineer. Most of the survivors on the Pan Am walked out onto the intact left wing, the side away from the collision, through holes in the fuselage structure.\n",
      "The Pan Am's engines were still running for a few minutes after the accident despite first officer Bragg's intention to turn them off. The top part of the cockpit, where the engine switches were located, had been destroyed in the collision, and all control lines were severed, leaving no means for the flight crew to control the aircraft's systems. Survivors waited for rescue, but it did not come promptly, as the firefighters were initially unaware that there were two aircraft involved and were concentrating on the KLM wreck hundreds of meters away in the thick fog and smoke. Eventually, most of the survivors on the wing dropped to the ground below.[11]\n",
      "\n",
      "Notable fatalities\n",
      "Jacob Veldhuyzen van Zanten, chief flight instructor for KLM and the captain of the KLM flight.[37]\n",
      "Eve Meyer, a pin-up model, film actress and producer and second wife of film director Russ Meyer, was on the Pan Am flight.[40]\n",
      "A. P. Hamann, the former city manager of San Jose, California, was on the Pan Am flight.[41]\"\n",
      "\n",
      "\n",
      "CONCISE SUMMARY:\u001b[0m\n",
      "\n",
      "\u001b[1m> Finished chain.\u001b[0m\n",
      "\n",
      "\n",
      "\u001b[1m> Entering new LLMChain chain...\u001b[0m\n",
      "Prompt after formatting:\n",
      "\u001b[32;1m\u001b[1;3mWrite a concise summary of the following:\n",
      "\n",
      "\n",
      "\" The Tenerife Airport Disaster of 1977 was the deadliest accident in aviation history. It occurred when two Boeing 747 passenger jets collided on the runway in dense fog. KLM Flight 4805 initiated its takeoff run while Pan Am Flight 1736 was still on the runway, resulting in the death of all passengers on board KLM 4805 and most of the passengers on Pan Am 1736. The subsequent investigation concluded that the primary cause of the accident was the KLM captain's decision to take off without clearance from air traffic control. The disaster led to changes such as the use of standardized phraseology in radio communications and the introduction of Crew Resource Management as a part of airline pilots' training.\n",
      "\n",
      " On August 27, 1977, Pan Am Flight 1736 and KLM Flight 4805 were diverted to Los Rodeos airport after a bomb threat at Gran Canaria airport. Pan Am Flight 1736, a Boeing 747, was unable to maneuver around the refueling KLM plane to reach the runway for takeoff, resulting in a collision that killed 583 people and making it the deadliest aviation accident at the time. Robina van Lanschot, a tour guide who had chosen to stay on Tenerife, was the only survivor of those who flew from Amsterdam to Tenerife on Flight 4805.\n",
      "\n",
      " Poor visibility conditions at Los Rodeos airport caused the KLM and Pan Am aircraft to have a collision on the runway. The Pan Am crew was instructed to take the third taxiway, but they had difficulty identifying the unmarked taxiways and were unsure of their position. The KLM plane successfully completed a 180° turn and lined up on the runway but the next cloud was 900 m down the runway and moving towards the aircraft.\n",
      "\n",
      " On March 27, 1977, a KLM 747 attempted to take off on a foggy runway at Tenerife, Spain, without clearance from air traffic control. The KLM crew misinterpreted the controller's response of \"OK\" as takeoff clearance. Simultaneous radio calls from the Pan Am crew caused interference and blocked the controller's response from being heard in the KLM cockpit. As a result, the KLM plane started to take off and collided with the Pan Am, causing a catastrophic crash.\n",
      "\n",
      " On March 27, 1977, KLM Flight 4805 and Pan Am Flight 1736 collided on the runway at Tenerife Airport in the Canary Islands. All 248 passengers and crew aboard the KLM plane and 335 passengers and crew aboard the Pan Am plane were killed, primarily due to the fire and explosions resulting from the fuel spilled and ignited in the impact. The other 61 passengers and crew aboard the Pan Am aircraft survived, and among the notable fatalities were KLM chief flight instructor Jacob Veldhuyzen van Zanten and pin-up model, film actress, and producer Eve Meyer.\"\n",
      "\n",
      "\n",
      "CONCISE SUMMARY:\u001b[0m\n",
      "\n",
      "\u001b[1m> Finished chain.\u001b[0m\n",
      "\n",
      "\u001b[1m> Finished chain.\u001b[0m\n",
      " On March 27, 1977, the Tenerife Airport Disaster occurred when KLM Flight 4805 initiated its takeoff without clearance from air traffic control and collided with Pan Am Flight 1736 on the foggy runway. All 248 passengers and crew aboard the KLM were killed, along with 335 passengers and crew aboard the Pan Am. The remaining 61 passengers and crew aboard the Pan Am plane survived. The disaster led to changes in radio communications and airline pilot training.\n"
     ]
    }
   ],
   "source": [
    "print(chain.run(docs))"
   ]
  },
  {
   "cell_type": "markdown",
   "metadata": {},
   "source": [
    "#### LLMRequestsChain"
   ]
  },
  {
   "cell_type": "code",
   "execution_count": 68,
   "metadata": {},
   "outputs": [],
   "source": [
    "from langchain.chains import LLMRequestsChain"
   ]
  },
  {
   "cell_type": "code",
   "execution_count": 69,
   "metadata": {},
   "outputs": [
    {
     "data": {
      "text/plain": [
       "{'query': 'Who won the 1983 Cricket world up ?',\n",
       " 'url': 'https://www.google.com/search?q=Who+won+the+1983+Cricket+world+up+?',\n",
       " 'output': '\\nAnswer: India national cricket team'}"
      ]
     },
     "execution_count": 69,
     "metadata": {},
     "output_type": "execute_result"
    }
   ],
   "source": [
    "template = '''\n",
    "Extract the answer from the question '{query}'. Say no results found if there's not info\n",
    "{requests_result}\n",
    "'''\n",
    "\n",
    "prompt = PromptTemplate(\n",
    "    input_variables=['query', 'requests_result'],\n",
    "    template=template\n",
    ")\n",
    "\n",
    "llm = OpenAI()\n",
    "\n",
    "chain = LLMRequestsChain(\n",
    "    llm_chain=LLMChain(llm=llm, prompt=prompt)\n",
    ")\n",
    "\n",
    "query = 'Who won the 1983 Cricket world up ?'\n",
    "\n",
    "input_query = {\n",
    "    'query': query,\n",
    "    'url': f'https://www.google.com/search?q={query.replace(\" \", \"+\")}'\n",
    "}\n",
    "\n",
    "chain(inputs=input_query)"
   ]
  },
  {
   "cell_type": "markdown",
   "metadata": {},
   "source": [
    "##### Inspect the Chain Function"
   ]
  },
  {
   "cell_type": "code",
   "execution_count": 73,
   "metadata": {},
   "outputs": [
    {
     "name": "stdout",
     "output_type": "stream",
     "text": [
      "    def _call(\n",
      "        self,\n",
      "        inputs: Dict[str, Any],\n",
      "        run_manager: Optional[CallbackManagerForChainRun] = None,\n",
      "    ) -> Dict[str, Any]:\n",
      "        from bs4 import BeautifulSoup\n",
      "\n",
      "        _run_manager = run_manager or CallbackManagerForChainRun.get_noop_manager()\n",
      "        # Other keys are assumed to be needed for LLM prediction\n",
      "        other_keys = {k: v for k, v in inputs.items() if k != self.input_key}\n",
      "        url = inputs[self.input_key]\n",
      "        res = self.requests_wrapper.get(url)\n",
      "        # extract the text from the html\n",
      "        soup = BeautifulSoup(res, \"html.parser\")\n",
      "        other_keys[self.requests_key] = soup.get_text()[: self.text_length]\n",
      "        result = self.llm_chain.predict(\n",
      "            callbacks=_run_manager.get_child(), **other_keys\n",
      "        )\n",
      "        return {self.output_key: result}\n",
      "\n"
     ]
    }
   ],
   "source": [
    "print(inspect.getsource(chain._call))"
   ]
  },
  {
   "cell_type": "code",
   "execution_count": null,
   "metadata": {},
   "outputs": [],
   "source": []
  }
 ],
 "metadata": {
  "kernelspec": {
   "display_name": ".venv",
   "language": "python",
   "name": "python3"
  },
  "language_info": {
   "codemirror_mode": {
    "name": "ipython",
    "version": 3
   },
   "file_extension": ".py",
   "mimetype": "text/x-python",
   "name": "python",
   "nbconvert_exporter": "python",
   "pygments_lexer": "ipython3",
   "version": "3.9.5"
  },
  "orig_nbformat": 4
 },
 "nbformat": 4,
 "nbformat_minor": 2
}
